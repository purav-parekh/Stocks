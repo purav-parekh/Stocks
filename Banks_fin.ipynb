{
 "cells": [
  {
   "cell_type": "code",
   "execution_count": 1,
   "metadata": {},
   "outputs": [],
   "source": [
    "import pandas as pd\n",
    "import numpy as np\n",
    "%matplotlib inline\n",
    "import matplotlib.pyplot as plt\n",
    "from sklearn.preprocessing import MinMaxScaler\n",
    "from sklearn.metrics import r2_score"
   ]
  },
  {
   "cell_type": "code",
   "execution_count": 2,
   "metadata": {},
   "outputs": [],
   "source": [
    "df = pd.read_csv(\"C:/Users/purav parekh/Desktop/College/SEM 6/Data Analytics/BSE_30.csv\")"
   ]
  },
  {
   "cell_type": "code",
   "execution_count": 3,
   "metadata": {},
   "outputs": [],
   "source": [
    "df_yes=df[df['Symbol'].str.contains('YESBANK')]"
   ]
  },
  {
   "cell_type": "code",
   "execution_count": 4,
   "metadata": {},
   "outputs": [
    {
     "data": {
      "text/html": [
       "<div>\n",
       "<style scoped>\n",
       "    .dataframe tbody tr th:only-of-type {\n",
       "        vertical-align: middle;\n",
       "    }\n",
       "\n",
       "    .dataframe tbody tr th {\n",
       "        vertical-align: top;\n",
       "    }\n",
       "\n",
       "    .dataframe thead th {\n",
       "        text-align: right;\n",
       "    }\n",
       "</style>\n",
       "<table border=\"1\" class=\"dataframe\">\n",
       "  <thead>\n",
       "    <tr style=\"text-align: right;\">\n",
       "      <th></th>\n",
       "      <th>Symbol</th>\n",
       "      <th>Date</th>\n",
       "      <th>Open</th>\n",
       "      <th>High</th>\n",
       "      <th>Low</th>\n",
       "      <th>Close</th>\n",
       "      <th>Adj Close</th>\n",
       "      <th>Volume</th>\n",
       "    </tr>\n",
       "  </thead>\n",
       "  <tbody>\n",
       "    <tr>\n",
       "      <th>68378</th>\n",
       "      <td>YESBANK</td>\n",
       "      <td>5/6/2008</td>\n",
       "      <td>35.779999</td>\n",
       "      <td>36.000000</td>\n",
       "      <td>34.160000</td>\n",
       "      <td>34.889999</td>\n",
       "      <td>23.188095</td>\n",
       "      <td>1632340.0</td>\n",
       "    </tr>\n",
       "    <tr>\n",
       "      <th>68379</th>\n",
       "      <td>YESBANK</td>\n",
       "      <td>5/7/2008</td>\n",
       "      <td>35.000000</td>\n",
       "      <td>35.480000</td>\n",
       "      <td>34.250000</td>\n",
       "      <td>35.060001</td>\n",
       "      <td>23.301077</td>\n",
       "      <td>944770.0</td>\n",
       "    </tr>\n",
       "    <tr>\n",
       "      <th>68380</th>\n",
       "      <td>YESBANK</td>\n",
       "      <td>5/8/2008</td>\n",
       "      <td>34.400002</td>\n",
       "      <td>34.950001</td>\n",
       "      <td>33.639999</td>\n",
       "      <td>34.009998</td>\n",
       "      <td>22.603241</td>\n",
       "      <td>881575.0</td>\n",
       "    </tr>\n",
       "    <tr>\n",
       "      <th>68381</th>\n",
       "      <td>YESBANK</td>\n",
       "      <td>5/9/2008</td>\n",
       "      <td>33.779999</td>\n",
       "      <td>34.299999</td>\n",
       "      <td>32.419998</td>\n",
       "      <td>32.660000</td>\n",
       "      <td>21.706022</td>\n",
       "      <td>847145.0</td>\n",
       "    </tr>\n",
       "    <tr>\n",
       "      <th>68382</th>\n",
       "      <td>YESBANK</td>\n",
       "      <td>5/12/2008</td>\n",
       "      <td>32.220001</td>\n",
       "      <td>32.799999</td>\n",
       "      <td>31.430000</td>\n",
       "      <td>32.349998</td>\n",
       "      <td>21.499992</td>\n",
       "      <td>1148050.0</td>\n",
       "    </tr>\n",
       "  </tbody>\n",
       "</table>\n",
       "</div>"
      ],
      "text/plain": [
       "        Symbol       Date       Open       High        Low      Close  \\\n",
       "68378  YESBANK   5/6/2008  35.779999  36.000000  34.160000  34.889999   \n",
       "68379  YESBANK   5/7/2008  35.000000  35.480000  34.250000  35.060001   \n",
       "68380  YESBANK   5/8/2008  34.400002  34.950001  33.639999  34.009998   \n",
       "68381  YESBANK   5/9/2008  33.779999  34.299999  32.419998  32.660000   \n",
       "68382  YESBANK  5/12/2008  32.220001  32.799999  31.430000  32.349998   \n",
       "\n",
       "       Adj Close     Volume  \n",
       "68378  23.188095  1632340.0  \n",
       "68379  23.301077   944770.0  \n",
       "68380  22.603241   881575.0  \n",
       "68381  21.706022   847145.0  \n",
       "68382  21.499992  1148050.0  "
      ]
     },
     "execution_count": 4,
     "metadata": {},
     "output_type": "execute_result"
    }
   ],
   "source": [
    "df_yes.head()"
   ]
  },
  {
   "cell_type": "code",
   "execution_count": 5,
   "metadata": {},
   "outputs": [
    {
     "name": "stderr",
     "output_type": "stream",
     "text": [
      "C:\\Users\\purav parekh\\Anaconda3\\lib\\site-packages\\pandas\\core\\frame.py:3697: SettingWithCopyWarning: \n",
      "A value is trying to be set on a copy of a slice from a DataFrame\n",
      "\n",
      "See the caveats in the documentation: http://pandas.pydata.org/pandas-docs/stable/indexing.html#indexing-view-versus-copy\n",
      "  errors=errors)\n",
      "C:\\Users\\purav parekh\\Anaconda3\\lib\\site-packages\\ipykernel_launcher.py:2: SettingWithCopyWarning: \n",
      "A value is trying to be set on a copy of a slice from a DataFrame.\n",
      "Try using .loc[row_indexer,col_indexer] = value instead\n",
      "\n",
      "See the caveats in the documentation: http://pandas.pydata.org/pandas-docs/stable/indexing.html#indexing-view-versus-copy\n",
      "  \n"
     ]
    },
    {
     "data": {
      "text/html": [
       "<div>\n",
       "<style scoped>\n",
       "    .dataframe tbody tr th:only-of-type {\n",
       "        vertical-align: middle;\n",
       "    }\n",
       "\n",
       "    .dataframe tbody tr th {\n",
       "        vertical-align: top;\n",
       "    }\n",
       "\n",
       "    .dataframe thead th {\n",
       "        text-align: right;\n",
       "    }\n",
       "</style>\n",
       "<table border=\"1\" class=\"dataframe\">\n",
       "  <thead>\n",
       "    <tr style=\"text-align: right;\">\n",
       "      <th></th>\n",
       "      <th>Symbol</th>\n",
       "      <th>Adj Close</th>\n",
       "    </tr>\n",
       "    <tr>\n",
       "      <th>Date</th>\n",
       "      <th></th>\n",
       "      <th></th>\n",
       "    </tr>\n",
       "  </thead>\n",
       "  <tbody>\n",
       "    <tr>\n",
       "      <th>2008-05-06</th>\n",
       "      <td>YESBANK</td>\n",
       "      <td>23.188095</td>\n",
       "    </tr>\n",
       "    <tr>\n",
       "      <th>2008-05-07</th>\n",
       "      <td>YESBANK</td>\n",
       "      <td>23.301077</td>\n",
       "    </tr>\n",
       "    <tr>\n",
       "      <th>2008-05-08</th>\n",
       "      <td>YESBANK</td>\n",
       "      <td>22.603241</td>\n",
       "    </tr>\n",
       "    <tr>\n",
       "      <th>2008-05-09</th>\n",
       "      <td>YESBANK</td>\n",
       "      <td>21.706022</td>\n",
       "    </tr>\n",
       "    <tr>\n",
       "      <th>2008-05-12</th>\n",
       "      <td>YESBANK</td>\n",
       "      <td>21.499992</td>\n",
       "    </tr>\n",
       "    <tr>\n",
       "      <th>2008-05-13</th>\n",
       "      <td>YESBANK</td>\n",
       "      <td>21.260735</td>\n",
       "    </tr>\n",
       "    <tr>\n",
       "      <th>2008-05-14</th>\n",
       "      <td>YESBANK</td>\n",
       "      <td>21.712667</td>\n",
       "    </tr>\n",
       "    <tr>\n",
       "      <th>2008-05-15</th>\n",
       "      <td>YESBANK</td>\n",
       "      <td>22.875729</td>\n",
       "    </tr>\n",
       "    <tr>\n",
       "      <th>2008-05-16</th>\n",
       "      <td>YESBANK</td>\n",
       "      <td>22.709579</td>\n",
       "    </tr>\n",
       "    <tr>\n",
       "      <th>2008-05-20</th>\n",
       "      <td>YESBANK</td>\n",
       "      <td>22.177893</td>\n",
       "    </tr>\n",
       "  </tbody>\n",
       "</table>\n",
       "</div>"
      ],
      "text/plain": [
       "             Symbol  Adj Close\n",
       "Date                          \n",
       "2008-05-06  YESBANK  23.188095\n",
       "2008-05-07  YESBANK  23.301077\n",
       "2008-05-08  YESBANK  22.603241\n",
       "2008-05-09  YESBANK  21.706022\n",
       "2008-05-12  YESBANK  21.499992\n",
       "2008-05-13  YESBANK  21.260735\n",
       "2008-05-14  YESBANK  21.712667\n",
       "2008-05-15  YESBANK  22.875729\n",
       "2008-05-16  YESBANK  22.709579\n",
       "2008-05-20  YESBANK  22.177893"
      ]
     },
     "execution_count": 5,
     "metadata": {},
     "output_type": "execute_result"
    }
   ],
   "source": [
    "df_yes.drop(['Open', 'High', 'Low', 'Close', 'Volume'], axis=1, inplace=True)\n",
    "df_yes['Date'] = pd.to_datetime(df['Date'])\n",
    "df_yes = df_yes.set_index(['Date'], drop=True)\n",
    "df_yes.head(10)"
   ]
  },
  {
   "cell_type": "code",
   "execution_count": 7,
   "metadata": {},
   "outputs": [
    {
     "data": {
      "image/png": "[encoded data removed]",
      "text/plain": [
       "<Figure size 720x432 with 1 Axes>"
      ]
     },
     "metadata": {
      "needs_background": "light"
     },
     "output_type": "display_data"
    }
   ],
   "source": [
    "plt.figure(figsize=(10, 6))\n",
    "df_yes['Adj Close'].plot();"
   ]
  },
  {
   "cell_type": "code",
   "execution_count": 8,
   "metadata": {},
   "outputs": [
    {
     "data": {
      "image/png": "[encoded data removed]",
      "text/plain": [
       "<Figure size 720x432 with 1 Axes>"
      ]
     },
     "metadata": {
      "needs_background": "light"
     },
     "output_type": "display_data"
    }
   ],
   "source": [
    "split_date = pd.Timestamp('2017-01-01')\n",
    "df_yes =  df_yes['Adj Close']\n",
    "train = df_yes.loc[:split_date]\n",
    "test = df_yes.loc[split_date:]\n",
    "plt.figure(figsize=(10, 6))\n",
    "ax = train.plot()\n",
    "test.plot(ax=ax)\n",
    "plt.legend(['train', 'test']);"
   ]
  },
  {
   "cell_type": "code",
   "execution_count": null,
   "metadata": {},
   "outputs": [],
   "source": [
    "scaler = MinMaxScaler(feature_range=(-1, 1))\n",
    "train_sc = scaler.fit_transform(train)\n",
    "test_sc = scaler.transform(test)"
   ]
  },
  {
   "cell_type": "code",
   "execution_count": 2,
   "metadata": {},
   "outputs": [
    {
     "ename": "ModuleNotFoundError",
     "evalue": "No module named 'tensorflow'",
     "output_type": "error",
     "traceback": [
      "\u001b[1;31m---------------------------------------------------------------------------\u001b[0m",
      "\u001b[1;31mModuleNotFoundError\u001b[0m                       Traceback (most recent call last)",
      "\u001b[1;32m<ipython-input-2-64156d691fe5>\u001b[0m in \u001b[0;36m<module>\u001b[1;34m\u001b[0m\n\u001b[1;32m----> 1\u001b[1;33m \u001b[1;32mimport\u001b[0m \u001b[0mtensorflow\u001b[0m \u001b[1;32mas\u001b[0m \u001b[0mtf\u001b[0m\u001b[1;33m\u001b[0m\u001b[1;33m\u001b[0m\u001b[0m\n\u001b[0m",
      "\u001b[1;31mModuleNotFoundError\u001b[0m: No module named 'tensorflow'"
     ]
    }
   ],
   "source": [
    "import tensorflow as tf"
   ]
  },
  {
   "cell_type": "code",
   "execution_count": null,
   "metadata": {},
   "outputs": [],
   "source": []
  }
 ],
 "metadata": {
  "kernelspec": {
   "display_name": "Python 3",
   "language": "python",
   "name": "python3"
  },
  "language_info": {
   "codemirror_mode": {
    "name": "ipython",
    "version": 3
   },
   "file_extension": ".py",
   "mimetype": "text/x-python",
   "name": "python",
   "nbconvert_exporter": "python",
   "pygments_lexer": "ipython3",
   "version": "3.7.1"
  }
 },
 "nbformat": 4,
 "nbformat_minor": 2
}
